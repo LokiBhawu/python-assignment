{
 "cells": [
  {
   "cell_type": "markdown",
   "id": "64f0f6d9",
   "metadata": {},
   "source": [
    "# Exercise 110: Sorted Order\n",
    "\n",
    "Write a program that reads integers from the user and stores them in a list. Your\n",
    "program should continue reading values until the user enters 0. Then it should display\n",
    "all of the values entered by the user (except for the 0) in ascending order, with one\n",
    "value appearing on each line. Use either the sort method or the sorted function\n",
    "to sort the list."
   ]
  },
  {
   "cell_type": "code",
   "execution_count": 11,
   "id": "64e841e8",
   "metadata": {
    "scrolled": true
   },
   "outputs": [
    {
     "name": "stdout",
     "output_type": "stream",
     "text": [
      "5\n",
      "2\n",
      "1\n",
      "9\n",
      "7\n",
      "0\n",
      "[1, 2, 5, 7, 9]\n"
     ]
    }
   ],
   "source": [
    "user_entry = []\n",
    "x = int(input())\n",
    "while x != 0:\n",
    "    user_entry.append(x)\n",
    "    x = int(input()) \n",
    "    user_entry = sorted(user_entry)\n",
    "print(user_entry)\n",
    "  "
   ]
  },
  {
   "cell_type": "markdown",
   "id": "b73037ac",
   "metadata": {},
   "source": [
    "# Exercise 111: Reverse Order\n",
    "\n",
    "Write a program that reads integers from the user and stores them in a list. Use 0 as\n",
    "a sentinel value to mark the end of the input. Once all of the values have been read\n",
    "your program should display them (except for the 0) in reverse order, with one value\n",
    "appearing on each line."
   ]
  },
  {
   "cell_type": "code",
   "execution_count": 16,
   "id": "a7bbbf4a",
   "metadata": {},
   "outputs": [
    {
     "name": "stdout",
     "output_type": "stream",
     "text": [
      "5\n",
      "6\n",
      "4\n",
      "9\n",
      "8\n",
      "0\n",
      "[9, 8, 6, 5, 4]\n"
     ]
    }
   ],
   "source": [
    "user_entry = []\n",
    "x = int(input())\n",
    "while x != 0:\n",
    "    user_entry.append(x)\n",
    "    x = int(input()) \n",
    "    user_entry = sorted(user_entry)\n",
    "user_entry.reverse()\n",
    "print(user_entry)"
   ]
  },
  {
   "cell_type": "markdown",
   "id": "2d9c65f2",
   "metadata": {},
   "source": [
    "# Exercise 113:Avoiding Duplicates\n",
    "\n",
    "In this exercise, you will create a program that reads words from the user until the\n",
    "user enters a blank line. After the user enters a blank line your program should display\n",
    "each word entered by the user exactly once. The words should be displayed in\n",
    "the same order that they were first entered. For example, if the user enters:"
   ]
  },
  {
   "cell_type": "code",
   "execution_count": 61,
   "id": "4f0296d6",
   "metadata": {},
   "outputs": [
    {
     "name": "stdout",
     "output_type": "stream",
     "text": [
      "first\n",
      "second\n",
      "first\n",
      "third\n",
      "second\n",
      " \n",
      "first\n",
      "second\n",
      "third\n"
     ]
    }
   ],
   "source": [
    "word = input()\n",
    "words = []\n",
    "while word != \" \":\n",
    "        words.append(word)\n",
    "        word = input()\n",
    "words = set(words)\n",
    "words = sorted(words)\n",
    "for word in words:\n",
    "    print(word)\n",
    "    \n"
   ]
  },
  {
   "cell_type": "markdown",
   "id": "0a323d3f",
   "metadata": {},
   "source": [
    "# Exercise 114: Negatives,Zeros and Positives\n",
    "\n",
    "Create a program that reads integers from the user until a blank line is entered. Once\n",
    "all of the integers have been read your program should display all of the negative\n",
    "numbers, followed by all of the zeros, followed by all of the positive numbers.Within\n",
    "each group the numbers should be displayed in the same order that they were entered\n",
    "by the user. For example, if the user enters the values 3, -4, 1, 0, -1, 0, and -2 then\n",
    "your program should output the values -4, -1, -2, 0, 0, 3, and 1. Your program\n",
    "should display each value on its own line."
   ]
  },
  {
   "cell_type": "code",
   "execution_count": 89,
   "id": "b09f547f",
   "metadata": {
    "scrolled": true
   },
   "outputs": [
    {
     "name": "stdout",
     "output_type": "stream",
     "text": [
      "1\n",
      "2\n",
      "-1\n",
      " \n"
     ]
    },
    {
     "ename": "ValueError",
     "evalue": "invalid literal for int() with base 10: ' '",
     "output_type": "error",
     "traceback": [
      "\u001b[1;31m---------------------------------------------------------------------------\u001b[0m",
      "\u001b[1;31mValueError\u001b[0m                                Traceback (most recent call last)",
      "Input \u001b[1;32mIn [89]\u001b[0m, in \u001b[0;36m<cell line: 5>\u001b[1;34m()\u001b[0m\n\u001b[0;32m      4\u001b[0m zero\u001b[38;5;241m=\u001b[39m[]\n\u001b[0;32m      5\u001b[0m \u001b[38;5;28;01mwhile\u001b[39;00m num \u001b[38;5;241m!=\u001b[39m \u001b[38;5;124m\"\u001b[39m\u001b[38;5;124m \u001b[39m\u001b[38;5;124m\"\u001b[39m:\n\u001b[1;32m----> 6\u001b[0m     num \u001b[38;5;241m=\u001b[39m \u001b[38;5;28;43mint\u001b[39;49m\u001b[43m(\u001b[49m\u001b[38;5;28;43minput\u001b[39;49m\u001b[43m(\u001b[49m\u001b[43m)\u001b[49m\u001b[43m)\u001b[49m\n\u001b[0;32m      7\u001b[0m     \u001b[38;5;28;01mif\u001b[39;00m num \u001b[38;5;241m<\u001b[39m \u001b[38;5;241m0\u001b[39m:\n\u001b[0;32m      8\u001b[0m         neg\u001b[38;5;241m.\u001b[39mappend(num)\n",
      "\u001b[1;31mValueError\u001b[0m: invalid literal for int() with base 10: ' '"
     ]
    }
   ],
   "source": [
    "num = int(input())\n",
    "neg=[]\n",
    "pos=[]\n",
    "zero=[]\n",
    "while num != \" \":\n",
    "    num = int(input())\n",
    "    if num < 0:\n",
    "        neg.append(num)\n",
    "    if num > 0:\n",
    "        pos.append(num)\n",
    "    if num==0:\n",
    "        zero.append(num)\n",
    "    \n",
    "print (\"The numbers were:\")\n",
    "for   n  in  neg:\n",
    "    print (n)\n",
    "for   n  in  zero:\n",
    "    print (n)\n",
    "for   n  in  pos:\n",
    "    print (n)\n",
    "         \n",
    "        \n"
   ]
  },
  {
   "cell_type": "markdown",
   "id": "3584666a",
   "metadata": {},
   "source": [
    "# Exercise 119: Below and Above Average\n",
    "\n",
    "Write a program that reads numbers from the user until a blank line is entered. Your\n",
    "program should display the average of all of the values entered by the user. Then\n",
    "the program should display all of the below average values, followed by all of the\n",
    "average values (if any), followed by all of the above average values. An appropriate\n",
    "label should be displayed before each list of values."
   ]
  },
  {
   "cell_type": "code",
   "execution_count": 90,
   "id": "88b4e03d",
   "metadata": {},
   "outputs": [
    {
     "name": "stdout",
     "output_type": "stream",
     "text": [
      "1\n",
      "2\n",
      "5\n",
      " \n"
     ]
    },
    {
     "ename": "ValueError",
     "evalue": "invalid literal for int() with base 10: ' '",
     "output_type": "error",
     "traceback": [
      "\u001b[1;31m---------------------------------------------------------------------------\u001b[0m",
      "\u001b[1;31mValueError\u001b[0m                                Traceback (most recent call last)",
      "Input \u001b[1;32mIn [90]\u001b[0m, in \u001b[0;36m<cell line: 4>\u001b[1;34m()\u001b[0m\n\u001b[0;32m      3\u001b[0m count \u001b[38;5;241m=\u001b[39m \u001b[38;5;241m1\u001b[39m\n\u001b[0;32m      4\u001b[0m \u001b[38;5;28;01mwhile\u001b[39;00m x \u001b[38;5;241m!=\u001b[39m \u001b[38;5;124m\"\u001b[39m\u001b[38;5;124m \u001b[39m\u001b[38;5;124m\"\u001b[39m:\n\u001b[1;32m----> 5\u001b[0m     x \u001b[38;5;241m=\u001b[39m \u001b[38;5;28;43mint\u001b[39;49m\u001b[43m(\u001b[49m\u001b[38;5;28;43minput\u001b[39;49m\u001b[43m(\u001b[49m\u001b[43m)\u001b[49m\u001b[43m)\u001b[49m\n\u001b[0;32m      6\u001b[0m     nums\u001b[38;5;241m.\u001b[39mappend(x)\n\u001b[0;32m      7\u001b[0m     x \u001b[38;5;241m+\u001b[39m\u001b[38;5;241m=\u001b[39mx\n",
      "\u001b[1;31mValueError\u001b[0m: invalid literal for int() with base 10: ' '"
     ]
    }
   ],
   "source": [
    "x = int(input())\n",
    "nums = []\n",
    "count = 1\n",
    "while x != \" \":\n",
    "    x = int(input())\n",
    "    nums.append(x)\n",
    "    x +=x\n",
    "    count +=1\n",
    "print (count)\n",
    "print(x)\n",
    "average = x/count   "
   ]
  }
 ],
 "metadata": {
  "kernelspec": {
   "display_name": "Python 3 (ipykernel)",
   "language": "python",
   "name": "python3"
  },
  "language_info": {
   "codemirror_mode": {
    "name": "ipython",
    "version": 3
   },
   "file_extension": ".py",
   "mimetype": "text/x-python",
   "name": "python",
   "nbconvert_exporter": "python",
   "pygments_lexer": "ipython3",
   "version": "3.9.12"
  }
 },
 "nbformat": 4,
 "nbformat_minor": 5
}
