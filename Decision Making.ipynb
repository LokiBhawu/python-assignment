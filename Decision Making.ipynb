{
 "cells": [
  {
   "cell_type": "markdown",
   "id": "250fbb6a",
   "metadata": {},
   "source": [
    "# Exercise 35: Even or Odd?\n",
    "\n",
    "Write a program that reads an integer from the user. Then your program should\n",
    "display a message indicating whether the integer is even or odd."
   ]
  },
  {
   "cell_type": "code",
   "execution_count": 2,
   "id": "4ea81ee2",
   "metadata": {},
   "outputs": [
    {
     "name": "stdout",
     "output_type": "stream",
     "text": [
      "Please enter a number: 1500236\n",
      "1500236 is a even number\n"
     ]
    }
   ],
   "source": [
    "num = int(input('Please enter a number: '))\n",
    "if num%2== 0:\n",
    "    print(f'{num} is a even number')\n",
    "else:\n",
    "    print(f'{num} is a odd number')"
   ]
  },
  {
   "cell_type": "markdown",
   "id": "625886c5",
   "metadata": {},
   "source": [
    "# Exercise 36:Dog Years\n",
    "\n",
    "It is commonly said that one human year is equivalent to 7 dog years. However this\n",
    "simple conversion fails to recognize that dogs reach adulthood in approximately two\n",
    "years. As a result, some people believe that it is better to count each of the first two\n",
    "human years as 10.5 dog years, and then count each additional human year as 4 dog\n",
    "years.\n",
    "Write a program that implements the conversion from human years to dog years\n",
    "described in the previous paragraph. Ensure that your program works correctly for\n",
    "conversions of less than two human years and for conversions of two or more human\n",
    "years. Your program should display an appropriate error message if the user enters\n",
    "a negative number."
   ]
  },
  {
   "cell_type": "code",
   "execution_count": 19,
   "id": "3bd48112",
   "metadata": {},
   "outputs": [
    {
     "name": "stdout",
     "output_type": "stream",
     "text": [
      "Enter human age: 8\n",
      "The age of dog is 34.5 year\n"
     ]
    }
   ],
   "source": [
    "Human_year= int(input('Enter human age: '))\n",
    "if  Human_year <= 2 and Human_year > 0:\n",
    "    year = (Human_year/2)*10.5\n",
    "    print(f\"The age of dog is {year} year\")\n",
    "elif Human_year > 2:\n",
    "    year = (10.5 + ((Human_year-2)*4))\n",
    "    print(f\"The age of dog is {year} year\")\n",
    "else:\n",
    "    print(\"Age can not be zero or negative\")\n"
   ]
  },
  {
   "cell_type": "markdown",
   "id": "01fca477",
   "metadata": {},
   "source": [
    "# Exercise 37:Vowel or Consonant\n",
    "\n",
    "In this exercise you will create a program that reads a letter of the alphabet from the\n",
    "user. If the user enters a, e, i, o or u then your program should display a message\n",
    "indicating that the entered letter is a vowel. If the user enters y then your program\n",
    "should display a message indicating that sometimes y is a vowel, and sometimes y is\n",
    "a consonant. Otherwise your program should display a message indicating that the\n",
    "letter is a consonant."
   ]
  },
  {
   "cell_type": "code",
   "execution_count": 34,
   "id": "e7fffb55",
   "metadata": {},
   "outputs": [
    {
     "name": "stdout",
     "output_type": "stream",
     "text": [
      "Enter a letter in small case: a\n",
      "a is vowel\n"
     ]
    }
   ],
   "source": [
    "letter = input('Enter a letter in small case: ')\n",
    "if letter in ['a','e','i','o','u']:\n",
    "    print(f'{letter} is vowel')\n",
    "elif letter in ['y']:\n",
    "    print('Sometimes y is a vowel, and sometimes y is a consonant')\n",
    "else:\n",
    "    print(f'{letter} is constant')"
   ]
  },
  {
   "cell_type": "markdown",
   "id": "ff156642",
   "metadata": {},
   "source": [
    "# Exercise 38:Name That Shape\n",
    "\n",
    "Write a program that determines the name of a shape from its number of sides. Read\n",
    "the number of sides from the user and then report the appropriate name as part of\n",
    "a meaningful message. Your program should support shapes with anywhere from 3\n",
    "up to (and including) 10 sides. If a number of sides outside of this range is entered\n",
    "then your program should display an appropriate error message.\n",
    "Exercise 39:"
   ]
  },
  {
   "cell_type": "code",
   "execution_count": 45,
   "id": "dbd8c474",
   "metadata": {},
   "outputs": [
    {
     "name": "stdout",
     "output_type": "stream",
     "text": [
      "Enter number of sidesbetween 3 to 10: 7\n",
      "Heptagon\n"
     ]
    }
   ],
   "source": [
    "side= int(input(\"Enter number of sidesbetween 3 to 10: \"))\n",
    "if side == 3:\n",
    "    print('Triangle')\n",
    "elif side == 4:\n",
    "    print('Square')\n",
    "elif side == 5:\n",
    "    print('Pentagon')\n",
    "elif side == 6:\n",
    "    print('Hexagon')\n",
    "elif side == 7:\n",
    "    print('Heptagon')\n",
    "elif side == 8:\n",
    "    print('Octagon')\n",
    "elif side == 9:\n",
    "    print('Nonagon')\n",
    "elif side == 10:\n",
    "    print('Decagon')\n",
    "else:\n",
    "    Print('It is not a valid side number')"
   ]
  },
  {
   "cell_type": "markdown",
   "id": "52550598",
   "metadata": {},
   "source": [
    "# Exercise 39:Month Name to Number of Days\n",
    "\n",
    "The length of a month varies from 28 to 31 days. In this exercise you will create\n",
    "a program that reads the name of a month from the user as a string. Then your\n",
    "program should display the number of days in that month. Display “28 or 29 days”\n",
    "for February so that leap years are addressed."
   ]
  },
  {
   "cell_type": "code",
   "execution_count": 54,
   "id": "87b270ed",
   "metadata": {},
   "outputs": [
    {
     "name": "stdout",
     "output_type": "stream",
     "text": [
      "Enter name of month: April\n",
      "April has 30 days\n"
     ]
    }
   ],
   "source": [
    "Month_name = input(\"Enter name of month: \")\n",
    "if Month_name in ['January' ,'March' ,'May' ,'July', 'August', 'October', 'December']:\n",
    "    print(f'{Month_name} has 31 days')\n",
    "elif Month_name in ['February']:\n",
    "    print(f'{Month_name} has 28 or 29 days')\n",
    "elif Month_name in ['April', 'June', 'September', 'November']:\n",
    "    print(f'{Month_name} has 30 days')\n",
    "else:\n",
    "    print('This is not a valid input')"
   ]
  }
 ],
 "metadata": {
  "kernelspec": {
   "display_name": "Python 3 (ipykernel)",
   "language": "python",
   "name": "python3"
  },
  "language_info": {
   "codemirror_mode": {
    "name": "ipython",
    "version": 3
   },
   "file_extension": ".py",
   "mimetype": "text/x-python",
   "name": "python",
   "nbconvert_exporter": "python",
   "pygments_lexer": "ipython3",
   "version": "3.9.12"
  }
 },
 "nbformat": 4,
 "nbformat_minor": 5
}
