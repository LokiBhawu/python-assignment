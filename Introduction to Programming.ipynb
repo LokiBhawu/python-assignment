{
 "cells": [
  {
   "cell_type": "markdown",
   "id": "afb12e35",
   "metadata": {},
   "source": [
    "# Exercise 1: Mailing Address\n",
    "\n",
    "Create a program that displays your name and complete mailing address. The address\n",
    "should be printed in the format that is normally used in the area where you live. Your\n",
    "program does not need to read any input from the user."
   ]
  },
  {
   "cell_type": "code",
   "execution_count": 28,
   "id": "efcf7153",
   "metadata": {},
   "outputs": [
    {
     "name": "stdout",
     "output_type": "stream",
     "text": [
      "Name: Lokesh Sahu\n",
      "mailing_address: A1-1103, Megapolish sparklet, Pune.\n",
      "complete mailing address is: Lokesh Sahu A1-1103, Megapolish sparklet, Pune.\n"
     ]
    }
   ],
   "source": [
    "name = input(\"Name: \")\n",
    "mailing_address = input(\"mailing_address: \")\n",
    "Complete_address = name + \" \"+mailing_address\n",
    "print(f\"complete mailing address is: {Complete_address}\")"
   ]
  },
  {
   "cell_type": "markdown",
   "id": "e7acee99",
   "metadata": {},
   "source": [
    "# Exercise 2: Hello\n",
    "\n",
    "Write a program that asks the user to enter his or her name. The program should\n",
    "respond with a message that says hello to the user, using his or her name."
   ]
  },
  {
   "cell_type": "code",
   "execution_count": 29,
   "id": "9f688718",
   "metadata": {},
   "outputs": [
    {
     "name": "stdout",
     "output_type": "stream",
     "text": [
      "Please enter your name: Lokesh\n",
      "Hello Lokesh\n"
     ]
    }
   ],
   "source": [
    "name= input(\"Please enter your name: \")\n",
    "print(f\"Hello {name}\")"
   ]
  },
  {
   "cell_type": "markdown",
   "id": "234d809e",
   "metadata": {},
   "source": [
    "# Exercise 3: Area of a Room\n",
    "\n",
    "Write a program that asks the user to enter the width and length of a room. Once\n",
    "these values have been read, your program should compute and display the area of\n",
    "the room. The length and the width will be entered as floating-point numbers. Include\n",
    "units in your prompt and output message; either feet or meters, depending on which\n",
    "unit you are more comfortable working with."
   ]
  },
  {
   "cell_type": "code",
   "execution_count": 33,
   "id": "f8a68791",
   "metadata": {},
   "outputs": [
    {
     "name": "stdout",
     "output_type": "stream",
     "text": [
      "Lenght of room in meter: 12.5\n",
      "Width of room in meter: 8.5\n",
      "The Area of a Room is 106.25 square meter.\n"
     ]
    }
   ],
   "source": [
    "lenght = float(input(\"Lenght of room in meter: \"))\n",
    "width = float(input(\"Width of room in meter: \"))\n",
    "Area_of_room = lenght*width\n",
    "\n",
    "print(f\"The Area of a Room is {Area_of_room} square meter.\")\n"
   ]
  },
  {
   "cell_type": "markdown",
   "id": "845a5ddd",
   "metadata": {},
   "source": [
    "# Exercise 4: Area of a Field\n",
    "\n",
    "Create a program that reads the length and width of a farmer’s field from the user in\n",
    "feet. Display the area of the field in acres."
   ]
  },
  {
   "cell_type": "code",
   "execution_count": 42,
   "id": "2a688246",
   "metadata": {},
   "outputs": [
    {
     "name": "stdout",
     "output_type": "stream",
     "text": [
      "Lenght of field in feet: 400\n",
      "Width of field in feet: 300\n",
      "The Area of a field is 2.75 acer.\n"
     ]
    }
   ],
   "source": [
    "lenght = float(input(\"Lenght of field in feet: \"))\n",
    "width = float(input(\"Width of field in feet: \"))\n",
    "Area_of_field = (lenght*width)/43560\n",
    "print(\"The Area of a field is %.2f acer.\" %(Area_of_field))"
   ]
  },
  {
   "cell_type": "markdown",
   "id": "092b92d6",
   "metadata": {},
   "source": [
    "# Exercise 6: Tax and Tip\n",
    "\n",
    "The program that you create for this exercise will begin by reading the cost of a meal\n",
    "ordered at a restaurant from the user. Then your program will compute the tax and\n",
    "tip for the meal. Use your local tax rate when computing the amount of tax owing.\n",
    "Compute the tip as 18 percent of the meal amount (without the tax). The output from\n",
    "your program should include the tax amount, the tip amount, and the grand total for\n",
    "the meal including both the tax and the tip. Format the output so that all of the values\n",
    "are displayed using two decimal places."
   ]
  },
  {
   "cell_type": "code",
   "execution_count": 47,
   "id": "0e93e173",
   "metadata": {},
   "outputs": [
    {
     "name": "stdout",
     "output_type": "stream",
     "text": [
      "Enter the price of meal: 119\n",
      "tax amount is 14.28\n",
      "tip amount is 21.42\n",
      "The grand total is 154.70\n"
     ]
    }
   ],
   "source": [
    "meal_price = float(input('Enter the price of meal: '))\n",
    "tax = meal_price*0.12\n",
    "tip = meal_price*0.18\n",
    "grand_total = meal_price + tax+ tip\n",
    "print('tax amount is %0.2f' %(tax))\n",
    "print('tip amount is %0.2f' %(tip))\n",
    "print('The grand total is %0.2f' %(grand_total))"
   ]
  },
  {
   "cell_type": "markdown",
   "id": "bf2d2ea4",
   "metadata": {},
   "source": [
    "# Exercise 14: Height Units\n",
    "\n",
    "Many people think about their height in feet and inches, even in some countries that\n",
    "primarily use the metric system. Write a program that reads a number of feet from\n",
    "the user, followed by a number of inches. Once these values are read, your program\n",
    "should compute and display the equivalent number of centimeters.\n",
    "Hint: One foot is 12 inches. One inch is 2.54 centimeters."
   ]
  },
  {
   "cell_type": "code",
   "execution_count": 53,
   "id": "27972708",
   "metadata": {},
   "outputs": [
    {
     "name": "stdout",
     "output_type": "stream",
     "text": [
      "height in feet: 5\n",
      "height in inches: 8\n",
      "Your height is 172.72 centimeters\n"
     ]
    }
   ],
   "source": [
    "height_in_feet = int(input('height in feet: '))\n",
    "height_in_inch = int(input('height in inches: '))\n",
    "height = (height_in_feet*12*2.54) + (height_in_inch*2.54)\n",
    "print(f'Your height is {height} centimeters')"
   ]
  },
  {
   "cell_type": "code",
   "execution_count": null,
   "id": "09c7d76b",
   "metadata": {},
   "outputs": [],
   "source": []
  }
 ],
 "metadata": {
  "kernelspec": {
   "display_name": "Python 3 (ipykernel)",
   "language": "python",
   "name": "python3"
  },
  "language_info": {
   "codemirror_mode": {
    "name": "ipython",
    "version": 3
   },
   "file_extension": ".py",
   "mimetype": "text/x-python",
   "name": "python",
   "nbconvert_exporter": "python",
   "pygments_lexer": "ipython3",
   "version": "3.9.12"
  }
 },
 "nbformat": 4,
 "nbformat_minor": 5
}
