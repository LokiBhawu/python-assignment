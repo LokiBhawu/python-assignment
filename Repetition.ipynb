{
 "cells": [
  {
   "cell_type": "markdown",
   "id": "e31b2283",
   "metadata": {},
   "source": [
    "# Exercise 64: Discount Table\n",
    "\n",
    "A particular retailer is having a 60 percent off sale on a variety of discontinued\n",
    "products. The retailer would like to help its customers determine the reduced price\n",
    "of the merchandise by having a printed discount table on the shelf that shows the\n",
    "original prices and the prices after the discount has been applied. Write a program that\n",
    "uses a loop to generate this table, showing the original price, the discount amount,\n",
    "and the new price for purchases of $4.95, $9.95, $14.95, $19.95 and $24.95. Ensure\n",
    "that the discount amounts and the new prices are rounded to 2 decimal places when\n",
    "they are displayed."
   ]
  },
  {
   "cell_type": "code",
   "execution_count": 30,
   "id": "2c669b8d",
   "metadata": {},
   "outputs": [
    {
     "name": "stdout",
     "output_type": "stream",
     "text": [
      "New price is : 1.98 and Old price is : 4.95\n",
      "New price is : 3.98 and Old price is : 9.95\n",
      "New price is : 5.98 and Old price is : 14.95\n",
      "New price is : 7.98 and Old price is : 19.95\n",
      "New price is : 9.98 and Old price is : 24.95\n"
     ]
    }
   ],
   "source": [
    "list = [4.95, 9.95, 14.95, 19.95 ,24.95]\n",
    "for old_price in list:\n",
    "    new_price = (old_price * 0.4)\n",
    "    print(\"New price is : %0.2f and Old price is : %0.2f\" %(new_price, old_price) )"
   ]
  },
  {
   "cell_type": "markdown",
   "id": "a0355b9c",
   "metadata": {},
   "source": [
    "# Exercise 75: Is a String a Palindrome?\n",
    "\n",
    "A string is a palindrome if it is identical forward and backward. For example “anna”,\n",
    "“civic”, “level” and “hannah” are all examples of palindromicwords. Write a program\n",
    "that reads a string from the user and uses a loop to determine whether or not it is a\n",
    "palindrome. Display the result, including a meaningful output message."
   ]
  },
  {
   "cell_type": "code",
   "execution_count": 35,
   "id": "0c836e3c",
   "metadata": {},
   "outputs": [
    {
     "name": "stdout",
     "output_type": "stream",
     "text": [
      "Enter a string to check Palindrome: godog\n",
      "godog is Palindrome\n"
     ]
    }
   ],
   "source": [
    "string = input('Enter a string to check Palindrome: ')\n",
    "if string[:] == string [::-1]:\n",
    "    print(f'{string} is Palindrome')\n",
    "else:\n",
    "    print(f'{string} is not Palindrome')\n"
   ]
  },
  {
   "cell_type": "markdown",
   "id": "a81c1056",
   "metadata": {},
   "source": [
    "# Exercise 65:Temperature Conversion Table\n",
    "\n",
    "Write a program that displays a temperature conversion table for degrees Celsius and\n",
    "degrees Fahrenheit. The table should include rows for all temperatures between 0\n",
    "and 100 degrees Celsius that are multiples of 10 degrees Celsius. Include appropriate\n",
    "headings on your columns. The formula for converting between degrees Celsius and\n",
    "degrees Fahrenheit can be found on the Internet."
   ]
  },
  {
   "cell_type": "code",
   "execution_count": 40,
   "id": "e2752f15",
   "metadata": {},
   "outputs": [
    {
     "name": "stdout",
     "output_type": "stream",
     "text": [
      "10 degrees_Celsius = 50.0 degrees_Fahrenheit\n",
      "20 degrees_Celsius = 68.0 degrees_Fahrenheit\n",
      "30 degrees_Celsius = 86.0 degrees_Fahrenheit\n",
      "40 degrees_Celsius = 104.0 degrees_Fahrenheit\n",
      "50 degrees_Celsius = 122.0 degrees_Fahrenheit\n",
      "60 degrees_Celsius = 140.0 degrees_Fahrenheit\n",
      "70 degrees_Celsius = 158.0 degrees_Fahrenheit\n",
      "80 degrees_Celsius = 176.0 degrees_Fahrenheit\n",
      "90 degrees_Celsius = 194.0 degrees_Fahrenheit\n"
     ]
    }
   ],
   "source": [
    "for degrees_Celsius in range(1,100):\n",
    "    if degrees_Celsius%10 == 0:\n",
    "        degrees_Fahrenheit= (degrees_Celsius*1.8)+32\n",
    "        print(f\"{degrees_Celsius} degrees_Celsius = {degrees_Fahrenheit} degrees_Fahrenheit\")\n",
    "        "
   ]
  },
  {
   "cell_type": "markdown",
   "id": "cf59f1fe",
   "metadata": {},
   "source": [
    "# Exercise 63:Average\n",
    "\n",
    "In this exercise you will create a program that computes the average of a collection\n",
    "of values entered by the user. The user will enter 0 as a sentinel value to indicate\n",
    "that no further values will be provided. Your program should display an appropriate\n",
    "error message if the first value entered by the user is 0.\n",
    "Hint: Because the 0 marks the end of the input it should not be included in the\n",
    "average."
   ]
  },
  {
   "cell_type": "code",
   "execution_count": 56,
   "id": "742818f4",
   "metadata": {},
   "outputs": [
    {
     "name": "stdout",
     "output_type": "stream",
     "text": [
      "5\n",
      "6\n",
      "4\n",
      "0\n",
      "Average of the above numbers are:  5.0\n"
     ]
    }
   ],
   "source": [
    "count = 0\n",
    "sum = 0\n",
    "number = 1\n",
    "\n",
    "while number!= 0:\n",
    "    number = int(input())\n",
    "    sum += number\n",
    "    count += 1\n",
    "    \n",
    "if count== 1:\n",
    "    print(\"Input some number\")\n",
    "else:\n",
    "    average = sum/(count-1)\n",
    "    print(\"Average of the above numbers are: \", average)"
   ]
  },
  {
   "cell_type": "markdown",
   "id": "ab8b1504",
   "metadata": {},
   "source": [
    "# Exercise 72: Fizz-Buzz\n",
    "\n",
    "Fizz-Buzz is a game that is sometimes played by children to help them learn about\n",
    "division. The players are commonly arranged in a circle so that the game can progress\n",
    "from player to player continually. The starting player begins by saying one, and then\n",
    "play passes to the player to the left. Each subsequent player is responsible for the\n",
    "next integer in sequence before play passes to the following player. On a player’s\n",
    "turn they must either say their number or one of following substitutions:\n",
    "• If the player’s number is divisible by 3 then the player says fizz instead of their\n",
    "number.\n",
    "• If the player’s number is divisible by 5 then the player says buzz instead of their\n",
    "number.\n",
    "A player must say both fizz and buzz for numbers that are divisible by both 3\n",
    "and 5. Any player that fails to perform the correct substitution or hesitates before\n",
    "answering is eliminated from the game. The last player remaining is the winner.\n",
    "Write a program that displays the answers for the first 100 numbers in the Fizz-\n",
    "Buzz game. Each answer should be displayed on its own line."
   ]
  },
  {
   "cell_type": "code",
   "execution_count": 43,
   "id": "73995e7d",
   "metadata": {},
   "outputs": [
    {
     "name": "stdout",
     "output_type": "stream",
     "text": [
      "1\n",
      "2\n",
      "3 fizz\n",
      "4\n",
      "5 buzz\n",
      "6 fizz\n",
      "7\n",
      "8\n",
      "9 fizz\n",
      "10 buzz\n",
      "11\n",
      "12 fizz\n",
      "13\n",
      "14\n",
      "15 fizz buzz\n",
      "16\n",
      "17\n",
      "18 fizz\n",
      "19\n",
      "20 buzz\n",
      "21 fizz\n",
      "22\n",
      "23\n",
      "24 fizz\n",
      "25 buzz\n",
      "26\n",
      "27 fizz\n",
      "28\n",
      "29\n",
      "30 fizz buzz\n",
      "31\n",
      "32\n",
      "33 fizz\n",
      "34\n",
      "35 buzz\n",
      "36 fizz\n",
      "37\n",
      "38\n",
      "39 fizz\n",
      "40 buzz\n",
      "41\n",
      "42 fizz\n",
      "43\n",
      "44\n",
      "45 fizz buzz\n",
      "46\n",
      "47\n",
      "48 fizz\n",
      "49\n",
      "50 buzz\n",
      "51 fizz\n",
      "52\n",
      "53\n",
      "54 fizz\n",
      "55 buzz\n",
      "56\n",
      "57 fizz\n",
      "58\n",
      "59\n",
      "60 fizz buzz\n",
      "61\n",
      "62\n",
      "63 fizz\n",
      "64\n",
      "65 buzz\n",
      "66 fizz\n",
      "67\n",
      "68\n",
      "69 fizz\n",
      "70 buzz\n",
      "71\n",
      "72 fizz\n",
      "73\n",
      "74\n",
      "75 fizz buzz\n",
      "76\n",
      "77\n",
      "78 fizz\n",
      "79\n",
      "80 buzz\n",
      "81 fizz\n",
      "82\n",
      "83\n",
      "84 fizz\n",
      "85 buzz\n",
      "86\n",
      "87 fizz\n",
      "88\n",
      "89\n",
      "90 fizz buzz\n",
      "91\n",
      "92\n",
      "93 fizz\n",
      "94\n",
      "95 buzz\n",
      "96 fizz\n",
      "97\n",
      "98\n",
      "99 fizz\n"
     ]
    }
   ],
   "source": [
    "for num in range (1,100):\n",
    "    if num%3 == 0 and num%5== 0:\n",
    "        print(f'{num} fizz buzz')\n",
    "    elif num%3 == 0:\n",
    "        print(f'{num} fizz')\n",
    "    elif num%5 == 0:\n",
    "        print(f'{num} buzz')\n",
    "    else:\n",
    "        print(f'{num}')\n",
    "        "
   ]
  },
  {
   "cell_type": "code",
   "execution_count": null,
   "id": "62294b62",
   "metadata": {},
   "outputs": [],
   "source": []
  }
 ],
 "metadata": {
  "kernelspec": {
   "display_name": "Python 3 (ipykernel)",
   "language": "python",
   "name": "python3"
  },
  "language_info": {
   "codemirror_mode": {
    "name": "ipython",
    "version": 3
   },
   "file_extension": ".py",
   "mimetype": "text/x-python",
   "name": "python",
   "nbconvert_exporter": "python",
   "pygments_lexer": "ipython3",
   "version": "3.9.12"
  }
 },
 "nbformat": 4,
 "nbformat_minor": 5
}
