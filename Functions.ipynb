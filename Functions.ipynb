{
 "cells": [
  {
   "cell_type": "markdown",
   "id": "cf56d4b3",
   "metadata": {},
   "source": [
    "# Exercise 86: Taxi Fare\n",
    "\n",
    "In a particular jurisdiction, taxi fares consist of a base fare of $4.00, plus $0.25\n",
    "for every 140 meters travelled. Write a function that takes the distance travelled (in\n",
    "kilometers) as its only parameter and returns the total fare as its only result. Write a\n",
    "main program that demonstrates the function.\n",
    "Hint: Taxi fares change over time. Use constants to represent the base fare and\n",
    "the variable portion of the fare so that the program can be updated easily when\n",
    "the rates increase.\n",
    "Exercise"
   ]
  },
  {
   "cell_type": "code",
   "execution_count": 97,
   "id": "bc4ead09",
   "metadata": {},
   "outputs": [],
   "source": [
    "def fare(Distance_in_km):\n",
    "        base_fare= 4\n",
    "        total_fare = (Distance_in_km/140)*1000*0.25 + base_fare\n",
    "        print(\"Your total fare is $ %0.2f\" %(total_fare))\n",
    "        return total_fare\n",
    "        "
   ]
  },
  {
   "cell_type": "code",
   "execution_count": 98,
   "id": "291f21e1",
   "metadata": {},
   "outputs": [
    {
     "name": "stdout",
     "output_type": "stream",
     "text": [
      "Your total fare is $ 32.57\n"
     ]
    },
    {
     "data": {
      "text/plain": [
       "32.57142857142857"
      ]
     },
     "execution_count": 98,
     "metadata": {},
     "output_type": "execute_result"
    }
   ],
   "source": [
    "fare(16)"
   ]
  },
  {
   "cell_type": "markdown",
   "id": "7037ff72",
   "metadata": {},
   "source": [
    "# Exercise 85: Compute the Hypotenuse\n",
    "\n",
    "Write a function that takes the lengths of the two shorter sides of a right triangle as\n",
    "its parameters. Return the hypotenuse of the triangle, computed using Pythagorean\n",
    "theorem, as the function’s result. Include a main program that reads the lengths of\n",
    "the shorter sides of a right triangle from the user, uses your function to compute the\n",
    "length of the hypotenuse, and displays the result."
   ]
  },
  {
   "cell_type": "code",
   "execution_count": 114,
   "id": "6cf0b8ba",
   "metadata": {},
   "outputs": [],
   "source": [
    "def Hypotenuse(a,b):\n",
    "    Hypotenuse = (a**2+b**2)**0.5\n",
    "    return Hypotenuse\n",
    "    "
   ]
  },
  {
   "cell_type": "code",
   "execution_count": 116,
   "id": "cbfe439b",
   "metadata": {},
   "outputs": [
    {
     "data": {
      "text/plain": [
       "5.0"
      ]
     },
     "execution_count": 116,
     "metadata": {},
     "output_type": "execute_result"
    }
   ],
   "source": [
    "Hypotenuse(3,4)"
   ]
  },
  {
   "cell_type": "markdown",
   "id": "1d7dbbaa",
   "metadata": {},
   "source": [
    "# Exercise 87: Shipping Calculator\n",
    "\n",
    "An online retailer provides express shipping for many of its items at a rate of $10.95\n",
    "for the first item in an order, and $2.95 for each subsequent item in the same order.\n",
    "Write a function that takes the number of items in the order as its only parameter.\n",
    "Return the shipping charge for the order as the function’s result. Include a main\n",
    "program that reads the number of items purchased from the user and displays the\n",
    "shipping charge."
   ]
  },
  {
   "cell_type": "code",
   "execution_count": 118,
   "id": "727a6663",
   "metadata": {},
   "outputs": [],
   "source": [
    "def shipping_charge(number_of_item):\n",
    "    charge= 10.95 + 2.95*(number_of_item-1)\n",
    "    return charge\n",
    "    "
   ]
  },
  {
   "cell_type": "code",
   "execution_count": 123,
   "id": "edbcb29d",
   "metadata": {},
   "outputs": [
    {
     "data": {
      "text/plain": [
       "22.75"
      ]
     },
     "execution_count": 123,
     "metadata": {},
     "output_type": "execute_result"
    }
   ],
   "source": [
    "shipping_charge(5)"
   ]
  },
  {
   "cell_type": "markdown",
   "id": "3c6fd3a2",
   "metadata": {},
   "source": [
    "# Exercise 88: Median of Three Values\n",
    "\n",
    "Write a function that takes three numbers as parameters, and returns the median value\n",
    "of those parameters as its result. Include a main program that reads three values from\n",
    "the user and displays their median."
   ]
  },
  {
   "cell_type": "code",
   "execution_count": 131,
   "id": "ebf7ebc6",
   "metadata": {},
   "outputs": [],
   "source": [
    "def median(a,b,c):\n",
    "    for num in [a,b,c]:\n",
    "        if num > min(a,b,c) and max(a,b,c)>num:\n",
    "            return num"
   ]
  },
  {
   "cell_type": "code",
   "execution_count": 137,
   "id": "6c2bacee",
   "metadata": {},
   "outputs": [
    {
     "data": {
      "text/plain": [
       "10"
      ]
     },
     "execution_count": 137,
     "metadata": {},
     "output_type": "execute_result"
    }
   ],
   "source": [
    "median(10,8,11)"
   ]
  },
  {
   "cell_type": "markdown",
   "id": "42f16b98",
   "metadata": {},
   "source": [
    "# Exercise 94: Is It a Valid Triangle?\n",
    "\n",
    "If you have 3 straws, possibly of differing lengths, it may or may not be possible\n",
    "to lay them down so that they form a triangle when their ends are touching. For\n",
    "example, if all of the straws have a length of 6 inches then one can easily construct\n",
    "an equilateral triangle using them. However, if one straw is 6 inches long, while\n",
    "the other two are each only 2 inches long, then a triangle cannot be formed. More\n",
    "generally, if any one length is greater than or equal to the sum of the other two then\n",
    "the lengths cannot be used to form a triangle. Otherwise they can form a triangle.\n",
    "Write a function that determines whether or not three lengths can form a triangle.\n",
    "The function will take 3 parameters and return a Boolean result. If any of the lengths\n",
    "are less than or equal to 0 then your function should return False. Otherwise it\n",
    "should determine whether or not the lengths can be used to form a triangle using\n",
    "the method described in the previous paragraph, and return the appropriate result.\n",
    "In addition, write a program that reads 3 lengths from the user and demonstrates the\n",
    "behaviour of your function."
   ]
  },
  {
   "cell_type": "code",
   "execution_count": 217,
   "id": "42d851ff",
   "metadata": {},
   "outputs": [],
   "source": [
    "def triangle(a,b,c):\n",
    "    if min(a,b,c)== 0 or min(a,b,c)<0:\n",
    "        return \"False\"\n",
    "    if (a + b <= c) or (a + c <= b) or (b + c <= a):\n",
    "        return \"False\"\n",
    "    else:\n",
    "        return \"true\""
   ]
  },
  {
   "cell_type": "code",
   "execution_count": 211,
   "id": "e07f49af",
   "metadata": {},
   "outputs": [
    {
     "data": {
      "text/plain": [
       "'False'"
      ]
     },
     "execution_count": 211,
     "metadata": {},
     "output_type": "execute_result"
    }
   ],
   "source": [
    "triangle(0,1,2)"
   ]
  },
  {
   "cell_type": "code",
   "execution_count": 218,
   "id": "e925be96",
   "metadata": {},
   "outputs": [
    {
     "data": {
      "text/plain": [
       "'true'"
      ]
     },
     "execution_count": 218,
     "metadata": {},
     "output_type": "execute_result"
    }
   ],
   "source": [
    "triangle(3,5,4)"
   ]
  }
 ],
 "metadata": {
  "kernelspec": {
   "display_name": "Python 3 (ipykernel)",
   "language": "python",
   "name": "python3"
  },
  "language_info": {
   "codemirror_mode": {
    "name": "ipython",
    "version": 3
   },
   "file_extension": ".py",
   "mimetype": "text/x-python",
   "name": "python",
   "nbconvert_exporter": "python",
   "pygments_lexer": "ipython3",
   "version": "3.9.12"
  }
 },
 "nbformat": 4,
 "nbformat_minor": 5
}
